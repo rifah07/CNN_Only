{
  "nbformat": 4,
  "nbformat_minor": 0,
  "metadata": {
    "colab": {
      "provenance": []
    },
    "kernelspec": {
      "name": "python3",
      "display_name": "Python 3"
    },
    "language_info": {
      "name": "python"
    }
  },
  "cells": [
    {
      "cell_type": "markdown",
      "source": [
        "# DenseNet: A Deep Learning Architecture"
      ],
      "metadata": {
        "id": "BzXBQT4nUyNo"
      }
    },
    {
      "cell_type": "markdown",
      "source": [
        "DenseNet, or Dense Convolutional Network, is a type of convolutional neural network (CNN) designed to improve the efficiency and performance of deep learning models. The **key idea** is the **dense connectivity pattern**, where **each layer is connected to every other layer in a feed-forward manner**."
      ],
      "metadata": {
        "id": "XeJCvzwRU1uC"
      }
    },
    {
      "cell_type": "markdown",
      "source": [
        "##Key Features of DenseNet\n",
        "\n",
        "1. Dense Connectivity:\n",
        "    * Each layer gets inputs from all preceding layers and passes its output to all subsequent layers.\n",
        "    * This ensures maximum information flow and helps mitigate the vanishing gradient problem.\n",
        "\n",
        "2. Feature Reuse:\n",
        "    * Instead of recalculating features, DenseNet reuses them, making the model more parameter-efficient.\n",
        "\n",
        "3. Compact Model:\n",
        "    * DenseNet requires fewer parameters and reduces the risk of overfitting.\n",
        "\n",
        "4. Transition Layers:\n",
        "    * To control the complexity of the network, transition layers are used between dense blocks, performing down-sampling with pooling layers.\n",
        "\n",
        "4. Growth Rate (k):\n",
        "    * The number of feature maps added by each layer is fixed and is known as the growth rate."
      ],
      "metadata": {
        "id": "2h-K5QooVBiz"
      }
    },
    {
      "cell_type": "markdown",
      "source": [
        "##Structure of DenseNet\n",
        "\n",
        "  1. Dense Block: A sequence of densely connected layers.\n",
        "  \n",
        "  2. Transition Layer: A layer between dense blocks that reduces feature map dimensions."
      ],
      "metadata": {
        "id": "5tp7XcXdVnWP"
      }
    },
    {
      "cell_type": "markdown",
      "source": [
        "Here’s how to implement DenseNet using PyTorch with a simple dataset like CIFAR-10."
      ],
      "metadata": {
        "id": "UK0h1B9pV0vn"
      }
    },
    {
      "cell_type": "code",
      "execution_count": 1,
      "metadata": {
        "id": "Le5bw6d4UdSH"
      },
      "outputs": [],
      "source": [
        "# Step 1: Import Libraries\n",
        "\n",
        "import torch\n",
        "import torch.nn as nn\n",
        "import torch.optim as optim\n",
        "import torchvision\n",
        "import torchvision.transforms as transforms\n"
      ]
    },
    {
      "cell_type": "code",
      "source": [
        "# Step 2: Load CIFAR-10 Dataset\n",
        "\n",
        "# Transformations for the dataset\n",
        "transform = transforms.Compose([\n",
        "    transforms.ToTensor(),\n",
        "    transforms.Normalize((0.5, 0.5, 0.5), (0.5, 0.5, 0.5))\n",
        "])\n",
        "\n",
        "# Load CIFAR-10 Dataset\n",
        "batch_size = 64\n",
        "\n",
        "trainset = torchvision.datasets.CIFAR10(root='./data', train=True, download=True, transform=transform)\n",
        "trainloader = torch.utils.data.DataLoader(trainset, batch_size=batch_size, shuffle=True)\n",
        "\n",
        "testset = torchvision.datasets.CIFAR10(root='./data', train=False, download=True, transform=transform)\n",
        "testloader = torch.utils.data.DataLoader(testset, batch_size=batch_size, shuffle=False)\n"
      ],
      "metadata": {
        "colab": {
          "base_uri": "https://localhost:8080/"
        },
        "id": "HYQILXw4WRMH",
        "outputId": "dbbcece4-c45e-4739-f9c7-308314091bbc"
      },
      "execution_count": 2,
      "outputs": [
        {
          "output_type": "stream",
          "name": "stdout",
          "text": [
            "Downloading https://www.cs.toronto.edu/~kriz/cifar-10-python.tar.gz to ./data/cifar-10-python.tar.gz\n"
          ]
        },
        {
          "output_type": "stream",
          "name": "stderr",
          "text": [
            "100%|██████████| 170M/170M [00:02<00:00, 77.8MB/s]\n"
          ]
        },
        {
          "output_type": "stream",
          "name": "stdout",
          "text": [
            "Extracting ./data/cifar-10-python.tar.gz to ./data\n",
            "Files already downloaded and verified\n"
          ]
        }
      ]
    },
    {
      "cell_type": "code",
      "source": [
        "# Step 3: Define DenseNet Architecture\n",
        "\n",
        "class DenseBlock(nn.Module):\n",
        "    def __init__(self, in_channels, growth_rate, num_layers):\n",
        "        super(DenseBlock, self).__init__()\n",
        "        self.layers = nn.ModuleList()\n",
        "        for i in range(num_layers):\n",
        "            self.layers.append(self._make_layer(in_channels + i * growth_rate, growth_rate))\n",
        "\n",
        "    def _make_layer(self, in_channels, growth_rate):\n",
        "        return nn.Sequential(\n",
        "            nn.BatchNorm2d(in_channels),\n",
        "            nn.ReLU(inplace=True),\n",
        "            nn.Conv2d(in_channels, growth_rate, kernel_size=3, stride=1, padding=1, bias=False)\n",
        "        )\n",
        "\n",
        "    def forward(self, x):\n",
        "        features = [x]\n",
        "        for layer in self.layers:\n",
        "            new_feature = layer(torch.cat(features, dim=1))\n",
        "            features.append(new_feature)\n",
        "        return torch.cat(features, dim=1)\n",
        "\n",
        "class TransitionLayer(nn.Module):\n",
        "    def __init__(self, in_channels, out_channels):\n",
        "        super(TransitionLayer, self).__init__()\n",
        "        self.transition = nn.Sequential(\n",
        "            nn.BatchNorm2d(in_channels),\n",
        "            nn.ReLU(inplace=True),\n",
        "            nn.Conv2d(in_channels, out_channels, kernel_size=1, stride=1, bias=False),\n",
        "            nn.AvgPool2d(kernel_size=2, stride=2)\n",
        "        )\n",
        "\n",
        "    def forward(self, x):\n",
        "        return self.transition(x)\n",
        "\n",
        "class DenseNet(nn.Module):\n",
        "    def __init__(self, growth_rate=12, num_layers=[6, 12, 24, 16], num_classes=10):\n",
        "        super(DenseNet, self).__init__()\n",
        "        self.growth_rate = growth_rate\n",
        "\n",
        "        # Initial Convolution\n",
        "        num_channels = 2 * growth_rate\n",
        "        self.conv1 = nn.Conv2d(3, num_channels, kernel_size=3, stride=1, padding=1, bias=False)\n",
        "\n",
        "        # Dense Blocks and Transition Layers\n",
        "        self.dense_blocks = nn.ModuleList()\n",
        "        self.transition_layers = nn.ModuleList()\n",
        "\n",
        "        for i, num_layer in enumerate(num_layers):\n",
        "            self.dense_blocks.append(DenseBlock(num_channels, growth_rate, num_layer))\n",
        "            num_channels += num_layer * growth_rate\n",
        "            if i != len(num_layers) - 1:\n",
        "                self.transition_layers.append(TransitionLayer(num_channels, num_channels // 2))\n",
        "                num_channels //= 2\n",
        "\n",
        "        # Final BatchNorm and Fully Connected Layer\n",
        "        self.bn = nn.BatchNorm2d(num_channels)\n",
        "        self.fc = nn.Linear(num_channels, num_classes)\n",
        "\n",
        "    def forward(self, x):\n",
        "        x = self.conv1(x)\n",
        "        for i, block in enumerate(self.dense_blocks):\n",
        "            x = block(x)\n",
        "            if i < len(self.transition_layers):\n",
        "                x = self.transition_layers[i](x)\n",
        "        x = self.bn(x)\n",
        "        x = torch.relu(x)\n",
        "        x = torch.mean(x, dim=[2, 3])  # Global Average Pooling\n",
        "        x = self.fc(x)\n",
        "        return x\n"
      ],
      "metadata": {
        "id": "d1YJFArQWd_8"
      },
      "execution_count": 3,
      "outputs": []
    },
    {
      "cell_type": "code",
      "source": [
        "# Step 4: Train and Test the Model\n",
        "\n",
        "device = torch.device(\"cuda\" if torch.cuda.is_available() else \"cpu\")\n",
        "model = DenseNet().to(device)\n",
        "\n",
        "criterion = nn.CrossEntropyLoss()\n",
        "optimizer = optim.Adam(model.parameters(), lr=0.001)\n",
        "\n",
        "import matplotlib.pyplot as plt\n",
        "\n",
        "# Variables to store loss and accuracy for each epoch\n",
        "train_losses = []\n",
        "test_accuracies = []\n",
        "\n",
        "for epoch in range(10):  # Number of epochs\n",
        "    # Training phase\n",
        "    model.train()\n",
        "    running_loss = 0.0\n",
        "    for inputs, labels in trainloader:\n",
        "        inputs, labels = inputs.to(device), labels.to(device)\n",
        "\n",
        "        optimizer.zero_grad()\n",
        "        outputs = model(inputs)\n",
        "        loss = criterion(outputs, labels)\n",
        "        loss.backward()\n",
        "        optimizer.step()\n",
        "\n",
        "        running_loss += loss.item()\n",
        "    avg_train_loss = running_loss / len(trainloader)\n",
        "    train_losses.append(avg_train_loss)\n",
        "\n",
        "    # Testing phase\n",
        "    model.eval()\n",
        "    correct = 0\n",
        "    total = 0\n",
        "    with torch.no_grad():\n",
        "        for inputs, labels in testloader:\n",
        "            inputs, labels = inputs.to(device), labels.to(device)\n",
        "            outputs = model(inputs)\n",
        "            _, predicted = torch.max(outputs.data, 1)\n",
        "            total += labels.size(0)\n",
        "            correct += (predicted == labels).sum().item()\n",
        "\n",
        "    accuracy = 100 * correct / total\n",
        "    test_accuracies.append(accuracy)\n",
        "\n",
        "    print(f\"Epoch {epoch+1}, Loss: {avg_train_loss:.4f}, Accuracy: {accuracy:.2f}%\")\n"
      ],
      "metadata": {
        "id": "4dmGcYQAWtWQ"
      },
      "execution_count": null,
      "outputs": []
    },
    {
      "cell_type": "markdown",
      "source": [
        "## Summary\n",
        "\n",
        " * DenseNet's key advantage is feature reuse and efficient use of parameters.\n",
        " * The above code implements DenseNet with CIFAR-10 as an example dataset.\n",
        " * The network comprises dense blocks and transition layers to balance depth and parameter efficiency."
      ],
      "metadata": {
        "id": "MumNlJd6Ysxn"
      }
    },
    {
      "cell_type": "code",
      "source": [
        "# Plot Training Loss\n",
        "plt.figure(figsize=(10, 5))\n",
        "plt.plot(train_losses, label=\"Training Loss\", color='blue', marker='o')\n",
        "plt.title(\"Training Loss Over Epochs\")\n",
        "plt.xlabel(\"Epoch\")\n",
        "plt.ylabel(\"Loss\")\n",
        "plt.legend()\n",
        "plt.grid()\n",
        "plt.show()\n",
        "\n",
        "# Plot Testing Accuracy\n",
        "plt.figure(figsize=(10, 5))\n",
        "plt.plot(test_accuracies, label=\"Testing Accuracy\", color='green', marker='o')\n",
        "plt.title(\"Testing Accuracy Over Epochs\")\n",
        "plt.xlabel(\"Epoch\")\n",
        "plt.ylabel(\"Accuracy (%)\")\n",
        "plt.legend()\n",
        "plt.grid()\n",
        "plt.show()\n"
      ],
      "metadata": {
        "id": "0zngLvgjW59A"
      },
      "execution_count": null,
      "outputs": []
    }
  ]
}