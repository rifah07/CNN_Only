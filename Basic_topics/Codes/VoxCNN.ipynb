{
  "nbformat": 4,
  "nbformat_minor": 0,
  "metadata": {
    "colab": {
      "provenance": []
    },
    "kernelspec": {
      "name": "python3",
      "display_name": "Python 3"
    },
    "language_info": {
      "name": "python"
    }
  },
  "cells": [
    {
      "cell_type": "markdown",
      "source": [
        "### VoxCNN is a convolutional neural network (CNN) architecture designed for processing 3D volumetric data. It is commonly applied in tasks such as 3D object recognition, medical imaging analysis, and other applications involving voxelized 3D data."
      ],
      "metadata": {
        "id": "sXJHfNdE9tPK"
      }
    },
    {
      "cell_type": "markdown",
      "source": [
        "# Basics of VoxCNN"
      ],
      "metadata": {
        "id": "nELS89iZ-yXJ"
      }
    },
    {
      "cell_type": "markdown",
      "source": [
        "### 1. Input Data: Voxel Representation\n",
        "    \n",
        "  * The input to VoxCNN is 3D voxel data. A voxel (volume pixel) represents a unit of a 3D grid, much like a pixel in 2D images.\n",
        "  * Each voxel can store values such as density or occupancy to represent 3D structures or objects.\n",
        "\n"
      ],
      "metadata": {
        "id": "qmGboZYIAhtI"
      }
    },
    {
      "cell_type": "markdown",
      "source": [
        "### 2. 3D Convolutions\n",
        "\n",
        "   * VoxCNN uses 3D convolutional layers instead of standard 2D convolutions used in image-based CNNs.\n",
        "   * A 3D convolutional filter slides over the 3D input data to extract spatial features in all three dimensions (width, height, depth).\n",
        "   * This allows the network to learn volumetric features, capturing spatial relationships within the 3D structure.\n"
      ],
      "metadata": {
        "id": "R7a_v3k1Abr6"
      }
    },
    {
      "cell_type": "markdown",
      "source": [
        "### 3. Architecture Components\n",
        "\n",
        "\n",
        "   1. **Convolutional Layers:** Extract local features from 3D data. Multiple layers allow the network to capture increasingly abstract representations.\n",
        "\n",
        "   2. **Pooling Layers:** Typically 3D max-pooling layers reduce the spatial dimensions, making computations efficient and focusing on significant features.\n",
        "\n",
        "   3. **Fully Connected Layers:** After convolutional and pooling layers, the output is flattened and passed through fully connected layers for classification or regression tasks.\n",
        "\n",
        "   4. **Activation Functions:** Non-linearities like ReLU (Rectified Linear Unit) are applied after convolutional layers to introduce non-linear mappings."
      ],
      "metadata": {
        "id": "btVxqVn1AD2z"
      }
    },
    {
      "cell_type": "markdown",
      "source": [
        "### 4. Training and Optimization\n",
        "\n",
        "  * **Loss Function**: The choice depends on the task (e.g., cross-entropy loss for classification or mean squared error for regression).\n",
        "\n",
        "  * **Backpropagation**: The weights of the network are updated using backpropagation and an optimization algorithm like stochastic gradient descent (SGD) or Adam.\n",
        "\n",
        "  * **Data Augmentation**: Techniques such as rotation, flipping, and cropping of voxel grids can be used to increase the diversity of the training dataset."
      ],
      "metadata": {
        "id": "4cbswEvR_zpS"
      }
    },
    {
      "cell_type": "markdown",
      "source": [
        "### 5. Applications\n",
        "\n",
        " * **3D Object Recognition**: Classifying 3D objects in datasets like ModelNet or ShapeNet.\n",
        " * **Medical Imaging**: Segmenting and classifying organs or lesions in 3D medical scans like CT or MRI.\n",
        " * **Robotics and Navigation**: Recognizing 3D environments for autonomous systems."
      ],
      "metadata": {
        "id": "R-v7SA3O_JYh"
      }
    },
    {
      "cell_type": "markdown",
      "source": [
        "# Challenges\n",
        "\n",
        "1. Computational Cost\n",
        "    * Processing 3D data is computationally expensive due to the increased size of voxel grids compared to 2D images.\n",
        "2. Data Representation\n",
        "    * Voxel representation may lead to sparse data for high-resolution 3D objects, requiring efficient techniques like sparse convolutions or hybrid representations."
      ],
      "metadata": {
        "id": "Nw7DviB1-n5c"
      }
    },
    {
      "cell_type": "code",
      "execution_count": 1,
      "metadata": {
        "id": "V8SsWsIn9TAq"
      },
      "outputs": [],
      "source": [
        "import numpy as np\n",
        "import tensorflow as tf\n",
        "from tensorflow.keras import Sequential\n",
        "from tensorflow.keras.layers import Conv3D, MaxPooling3D, Flatten, Dense"
      ]
    },
    {
      "cell_type": "code",
      "source": [
        "# Example dataset\n",
        "solid_cube = np.ones((5, 5, 5))\n",
        "hollow_cube = np.array([\n",
        "    [[1, 1, 1, 1, 1],\n",
        "     [1, 0, 0, 0, 1],\n",
        "     [1, 0, 0, 0, 1],\n",
        "     [1, 0, 0, 0, 1],\n",
        "     [1, 1, 1, 1, 1]],\n",
        "    [[1, 1, 1, 1, 1],\n",
        "     [1, 0, 0, 0, 1],\n",
        "     [1, 0, 0, 0, 1],\n",
        "     [1, 0, 0, 0, 1],\n",
        "     [1, 1, 1, 1, 1]],\n",
        "    [[1, 1, 1, 1, 1],\n",
        "     [1, 0, 0, 0, 1],\n",
        "     [1, 0, 0, 0, 1],\n",
        "     [1, 0, 0, 0, 1],\n",
        "     [1, 1, 1, 1, 1]],\n",
        "    [[1, 1, 1, 1, 1],\n",
        "     [1, 0, 0, 0, 1],\n",
        "     [1, 0, 0, 0, 1],\n",
        "     [1, 0, 0, 0, 1],\n",
        "     [1, 1, 1, 1, 1]],\n",
        "    [[1, 1, 1, 1, 1],\n",
        "     [1, 1, 1, 1, 1],\n",
        "     [1, 1, 1, 1, 1],\n",
        "     [1, 1, 1, 1, 1],\n",
        "     [1, 1, 1, 1, 1]]\n",
        "])"
      ],
      "metadata": {
        "id": "Q0ADlcQyA-5p"
      },
      "execution_count": 2,
      "outputs": []
    },
    {
      "cell_type": "code",
      "source": [
        "X_train = np.array([solid_cube, hollow_cube])\n",
        "y_train = np.array([1, 0])  # Labels: 1 = solid, 0 = hollow\n",
        "\n",
        "# Reshape to add channel dimension\n",
        "X_train = X_train[..., np.newaxis]"
      ],
      "metadata": {
        "id": "38GlfugDBCls"
      },
      "execution_count": 3,
      "outputs": []
    },
    {
      "cell_type": "code",
      "source": [
        "# Model Definition\n",
        "model = Sequential([\n",
        "    Conv3D(16, (3, 3, 3), activation='relu', input_shape=(5, 5, 5, 1)),\n",
        "    MaxPooling3D(pool_size=(2, 2, 2)),\n",
        "    Flatten(),\n",
        "    Dense(32, activation='relu'),\n",
        "    Dense(2, activation='softmax')  # Binary classification\n",
        "])"
      ],
      "metadata": {
        "colab": {
          "base_uri": "https://localhost:8080/"
        },
        "id": "qS_UkOZkBIup",
        "outputId": "82363b6e-9a55-4953-c43b-2d63ccddb5f0"
      },
      "execution_count": 4,
      "outputs": [
        {
          "output_type": "stream",
          "name": "stderr",
          "text": [
            "/usr/local/lib/python3.10/dist-packages/keras/src/layers/convolutional/base_conv.py:107: UserWarning: Do not pass an `input_shape`/`input_dim` argument to a layer. When using Sequential models, prefer using an `Input(shape)` object as the first layer in the model instead.\n",
            "  super().__init__(activity_regularizer=activity_regularizer, **kwargs)\n"
          ]
        }
      ]
    },
    {
      "cell_type": "code",
      "source": [
        "# Compile the model\n",
        "model.compile(optimizer='adam', loss='sparse_categorical_crossentropy', metrics=['accuracy'])"
      ],
      "metadata": {
        "id": "DD1tjcHIBKfR"
      },
      "execution_count": 5,
      "outputs": []
    },
    {
      "cell_type": "code",
      "source": [
        "# Train the model\n",
        "model.fit(X_train, y_train, epochs=10, batch_size=1)\n",
        "\n",
        "trained_model = model.fit(X_train, y_train, epochs=10, batch_size=1)"
      ],
      "metadata": {
        "colab": {
          "base_uri": "https://localhost:8080/"
        },
        "id": "VoiAhvRjBMcx",
        "outputId": "cefc131c-0159-4b54-ea49-aa3fe2b525e4"
      },
      "execution_count": 6,
      "outputs": [
        {
          "output_type": "stream",
          "name": "stdout",
          "text": [
            "Epoch 1/10\n",
            "\u001b[1m2/2\u001b[0m \u001b[32m━━━━━━━━━━━━━━━━━━━━\u001b[0m\u001b[37m\u001b[0m \u001b[1m1s\u001b[0m 13ms/step - accuracy: 0.6667 - loss: 0.6994 \n",
            "Epoch 2/10\n",
            "\u001b[1m2/2\u001b[0m \u001b[32m━━━━━━━━━━━━━━━━━━━━\u001b[0m\u001b[37m\u001b[0m \u001b[1m0s\u001b[0m 8ms/step - accuracy: 0.6667 - loss: 0.6858 \n",
            "Epoch 3/10\n",
            "\u001b[1m2/2\u001b[0m \u001b[32m━━━━━━━━━━━━━━━━━━━━\u001b[0m\u001b[37m\u001b[0m \u001b[1m0s\u001b[0m 13ms/step - accuracy: 0.6667 - loss: 0.6753\n",
            "Epoch 4/10\n",
            "\u001b[1m2/2\u001b[0m \u001b[32m━━━━━━━━━━━━━━━━━━━━\u001b[0m\u001b[37m\u001b[0m \u001b[1m0s\u001b[0m 8ms/step - accuracy: 0.3333 - loss: 0.7026     \n",
            "Epoch 5/10\n",
            "\u001b[1m2/2\u001b[0m \u001b[32m━━━━━━━━━━━━━━━━━━━━\u001b[0m\u001b[37m\u001b[0m \u001b[1m0s\u001b[0m 8ms/step - accuracy: 0.6667 - loss: 0.6590 \n",
            "Epoch 6/10\n",
            "\u001b[1m2/2\u001b[0m \u001b[32m━━━━━━━━━━━━━━━━━━━━\u001b[0m\u001b[37m\u001b[0m \u001b[1m0s\u001b[0m 8ms/step - accuracy: 0.3333 - loss: 0.6902     \n",
            "Epoch 7/10\n",
            "\u001b[1m2/2\u001b[0m \u001b[32m━━━━━━━━━━━━━━━━━━━━\u001b[0m\u001b[37m\u001b[0m \u001b[1m0s\u001b[0m 9ms/step - accuracy: 0.6667 - loss: 0.6435 \n",
            "Epoch 8/10\n",
            "\u001b[1m2/2\u001b[0m \u001b[32m━━━━━━━━━━━━━━━━━━━━\u001b[0m\u001b[37m\u001b[0m \u001b[1m0s\u001b[0m 8ms/step - accuracy: 0.3333 - loss: 0.6795     \n",
            "Epoch 9/10\n",
            "\u001b[1m2/2\u001b[0m \u001b[32m━━━━━━━━━━━━━━━━━━━━\u001b[0m\u001b[37m\u001b[0m \u001b[1m0s\u001b[0m 8ms/step - accuracy: 0.6667 - loss: 0.6301 \n",
            "Epoch 10/10\n",
            "\u001b[1m2/2\u001b[0m \u001b[32m━━━━━━━━━━━━━━━━━━━━\u001b[0m\u001b[37m\u001b[0m \u001b[1m0s\u001b[0m 9ms/step - accuracy: 0.3333 - loss: 0.6702     \n",
            "Epoch 1/10\n",
            "\u001b[1m2/2\u001b[0m \u001b[32m━━━━━━━━━━━━━━━━━━━━\u001b[0m\u001b[37m\u001b[0m \u001b[1m0s\u001b[0m 13ms/step - accuracy: 0.3333 - loss: 0.6659    \n",
            "Epoch 2/10\n",
            "\u001b[1m2/2\u001b[0m \u001b[32m━━━━━━━━━━━━━━━━━━━━\u001b[0m\u001b[37m\u001b[0m \u001b[1m0s\u001b[0m 13ms/step - accuracy: 0.6667 - loss: 0.6144\n",
            "Epoch 3/10\n",
            "\u001b[1m2/2\u001b[0m \u001b[32m━━━━━━━━━━━━━━━━━━━━\u001b[0m\u001b[37m\u001b[0m \u001b[1m0s\u001b[0m 8ms/step - accuracy: 0.3333 - loss: 0.6591     \n",
            "Epoch 4/10\n",
            "\u001b[1m2/2\u001b[0m \u001b[32m━━━━━━━━━━━━━━━━━━━━\u001b[0m\u001b[37m\u001b[0m \u001b[1m0s\u001b[0m 8ms/step - accuracy: 0.6667 - loss: 0.6044 \n",
            "Epoch 5/10\n",
            "\u001b[1m2/2\u001b[0m \u001b[32m━━━━━━━━━━━━━━━━━━━━\u001b[0m\u001b[37m\u001b[0m \u001b[1m0s\u001b[0m 9ms/step - accuracy: 0.3333 - loss: 0.6531     \n",
            "Epoch 6/10\n",
            "\u001b[1m2/2\u001b[0m \u001b[32m━━━━━━━━━━━━━━━━━━━━\u001b[0m\u001b[37m\u001b[0m \u001b[1m0s\u001b[0m 8ms/step - accuracy: 0.3333 - loss: 0.6486     \n",
            "Epoch 7/10\n",
            "\u001b[1m2/2\u001b[0m \u001b[32m━━━━━━━━━━━━━━━━━━━━\u001b[0m\u001b[37m\u001b[0m \u001b[1m0s\u001b[0m 8ms/step - accuracy: 0.6667 - loss: 0.5893 \n",
            "Epoch 8/10\n",
            "\u001b[1m2/2\u001b[0m \u001b[32m━━━━━━━━━━━━━━━━━━━━\u001b[0m\u001b[37m\u001b[0m \u001b[1m0s\u001b[0m 8ms/step - accuracy: 0.6667 - loss: 0.5835 \n",
            "Epoch 9/10\n",
            "\u001b[1m2/2\u001b[0m \u001b[32m━━━━━━━━━━━━━━━━━━━━\u001b[0m\u001b[37m\u001b[0m \u001b[1m0s\u001b[0m 8ms/step - accuracy: 0.3333 - loss: 0.6358     \n",
            "Epoch 10/10\n",
            "\u001b[1m2/2\u001b[0m \u001b[32m━━━━━━━━━━━━━━━━━━━━\u001b[0m\u001b[37m\u001b[0m \u001b[1m0s\u001b[0m 8ms/step - accuracy: 1.0000 - loss: 0.6294 \n"
          ]
        }
      ]
    },
    {
      "cell_type": "code",
      "source": [
        "# Evaluate the model on the training dataset\n",
        "results = model.evaluate(X_train, y_train, verbose=0)\n",
        "print(f\"Loss: {results[0]:.4f}, Accuracy: {results[1]:.4f}\")"
      ],
      "metadata": {
        "colab": {
          "base_uri": "https://localhost:8080/"
        },
        "id": "7IVXWw1iBoAo",
        "outputId": "828c3687-f1e7-4168-aa2d-bd729f54ebc3"
      },
      "execution_count": 7,
      "outputs": [
        {
          "output_type": "stream",
          "name": "stdout",
          "text": [
            "Loss: 0.5948, Accuracy: 1.0000\n"
          ]
        }
      ]
    },
    {
      "cell_type": "code",
      "source": [
        "# Test with a new data point (solid cube example)\n",
        "test_data = np.expand_dims(solid_cube, axis=(0, -1))  # Add batch and channel dimensions\n",
        "prediction = model.predict(test_data)\n",
        "predicted_class = np.argmax(prediction, axis=1)[0]\n",
        "print(f\"Predicted class for a solid cube: {predicted_class} (confidence: {prediction[0][predicted_class]:.2f})\")"
      ],
      "metadata": {
        "colab": {
          "base_uri": "https://localhost:8080/"
        },
        "id": "sfzjnKMBBsrv",
        "outputId": "68e101b0-bcd3-4984-d95d-8555569fe665"
      },
      "execution_count": 8,
      "outputs": [
        {
          "output_type": "stream",
          "name": "stdout",
          "text": [
            "\u001b[1m1/1\u001b[0m \u001b[32m━━━━━━━━━━━━━━━━━━━━\u001b[0m\u001b[37m\u001b[0m \u001b[1m0s\u001b[0m 86ms/step\n",
            "Predicted class for a solid cube: 1 (confidence: 0.60)\n"
          ]
        }
      ]
    },
    {
      "cell_type": "code",
      "source": [
        "# Test with another data point (hollow cube example)\n",
        "test_data = np.expand_dims(hollow_cube, axis=(0, -1))  # Add batch and channel dimensions\n",
        "prediction = model.predict(test_data)\n",
        "predicted_class = np.argmax(prediction, axis=1)[0]\n",
        "print(f\"Predicted class for a hollow cube: {predicted_class} (confidence: {prediction[0][predicted_class]:.2f})\")"
      ],
      "metadata": {
        "colab": {
          "base_uri": "https://localhost:8080/"
        },
        "id": "Y9eI6dUiBvUP",
        "outputId": "b1c8f227-4b0f-4003-eb2e-7eb886bd3df7"
      },
      "execution_count": 9,
      "outputs": [
        {
          "output_type": "stream",
          "name": "stdout",
          "text": [
            "\u001b[1m1/1\u001b[0m \u001b[32m━━━━━━━━━━━━━━━━━━━━\u001b[0m\u001b[37m\u001b[0m \u001b[1m0s\u001b[0m 57ms/step\n",
            "Predicted class for a hollow cube: 0 (confidence: 0.51)\n"
          ]
        }
      ]
    },
    {
      "cell_type": "code",
      "source": [
        "import matplotlib.pyplot as plt\n",
        "\n",
        "# Extract loss and accuracy from history.history\n",
        "loss = trained_model.history['loss']\n",
        "accuracy = trained_model.history['accuracy']\n",
        "\n",
        "# Plot training loss and accuracy\n",
        "plt.figure(figsize=(12, 6))\n",
        "\n",
        "# Loss plot\n",
        "plt.subplot(1, 2, 1)\n",
        "plt.plot(loss, label='Training Loss', color='blue')\n",
        "plt.title('Training Loss')\n",
        "plt.xlabel('Epochs')\n",
        "plt.ylabel('Loss')\n",
        "plt.legend()\n",
        "plt.grid(True)\n",
        "\n",
        "# Accuracy plot\n",
        "plt.subplot(1, 2, 2)\n",
        "plt.plot(accuracy, label='Training Accuracy', color='green')\n",
        "plt.title('Training Accuracy')\n",
        "plt.xlabel('Epochs')\n",
        "plt.ylabel('Accuracy')\n",
        "plt.legend()\n",
        "plt.grid(True)\n",
        "\n",
        "# Show both plots\n",
        "plt.tight_layout()\n",
        "plt.show()"
      ],
      "metadata": {
        "colab": {
          "base_uri": "https://localhost:8080/",
          "height": 607
        },
        "id": "MDnjaMJgB03p",
        "outputId": "5de33bcc-9dfa-4b61-b5b8-bb4d5356bd56"
      },
      "execution_count": 10,
      "outputs": [
        {
          "output_type": "display_data",
          "data": {
            "text/plain": [
              "<Figure size 1200x600 with 2 Axes>"
            ],
            "image/png": "[encoded data removed]"
          },
          "metadata": {}
        }
      ]
    },
    {
      "cell_type": "markdown",
      "source": [
        "plt.tight_layout() Ensures that:\n",
        "\n",
        "* Subplot titles don’t overlap with the axes or neighboring plots.\n",
        "* X-axis or Y-axis labels are fully visible.\n",
        "* Legends don’t get cropped.\n",
        "* Works with plt.subplot, plt.subplots, and grids of plots."
      ],
      "metadata": {
        "id": "LKXYSISbC7o6"
      }
    },
    {
      "cell_type": "markdown",
      "source": [
        "# VoxCNN Model Architecture for the Example\n",
        "\n",
        "We define a simple 3D CNN for binary classification:\n",
        "\n",
        "## Layers\n",
        "\n",
        "Input Layer: Accepts 5×5×5 voxel grids.\n",
        "\n",
        "1.   Convolutional Layer\n",
        "      *  A 3D convolutional layer with filters to detect patterns like edges and corners.\n",
        "\n",
        "2.   Pooling Layer\n",
        "      * A 3D max-pooling layer reduces the spatial dimensions.\n",
        "\n",
        "3.  Fully Connected Layer\n",
        "     * A dense layer maps features to the two classes (solid or hollow).\n",
        "\n",
        "4.  Output Layer\n",
        "    * Outputs probabilities for each class using softmax activation."
      ],
      "metadata": {
        "id": "261anx3S9yOJ"
      }
    },
    {
      "cell_type": "markdown",
      "source": [
        "Example summery:\n",
        "* Input: The model takes a 5×5×5 grid as input.\n",
        "* Convolutional Layer: Extracts 3D spatial features, such as filled edges or hollow patterns.\n",
        "* Pooling Layer: Reduces the size, focusing on key features.\n",
        "* Fully Connected Layers: Maps features to binary classes (solid or hollow)."
      ],
      "metadata": {
        "id": "I8CfMj2xDO2Z"
      }
    }
  ]
}