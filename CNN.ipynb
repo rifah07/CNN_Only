{
 "cells": [
  {
   "cell_type": "markdown",
   "metadata": {
    "id": "bDcZNyXIPUi7"
   },
   "source": [
    "Basically **Neural networks** are modeled after our brains. There are individual nodes that form the layers in the network, just like the neurons in our brains connect different areas.\n",
    "\n",
    "The inputs to nodes in a single layer will have a weight assigned to them that changes the effect that parameter has on the overall prediction result. Since the weights are assigned on the links between nodes, each node maybe influenced by multiple weights.\n",
    "\n",
    "The neural network takes all of the training data in the input layer. Then it passes the data through the hidden layers, transforming the values based on the weights at each node. Finally it returns a value in the output layer.\n",
    "\n",
    "It can take some time to properly tune a neural network to get consistent, reliable results. Testing and training your neural network is a balancing process between deciding what features are the most important to your model."
   ]
  },
  {
   "cell_type": "markdown",
   "metadata": {
    "id": "fbYzB-SrQfXJ"
   },
   "source": [
    "A convolutional neural network is a specific kind of neural network with multiple layers. It processes data that has a grid-like arrangement then extracts important features. One huge **advantage** of using CNNs is that you **don't** need to do **a lot of pre-processing** on images.\n"
   ]
  },
  {
   "cell_type": "markdown",
   "metadata": {
    "id": "QnGouIugPGd3"
   },
   "source": [
    "# **CNN** is **Convolutional Neural Network**. It is a type of deep learning algorithm designed specifically for working with **grid-like data, such as images**."
   ]
  },
  {
   "cell_type": "markdown",
   "metadata": {
    "id": "1uCrHQ3FQ3ZI"
   },
   "source": [
    "A **big difference between a CNN and a regular neural network** is that CNNs use convolutions to handle the math behind the scenes. A convolution is used instead of matrix multiplication in at least one layer of the CNN. Convolutions take to two functions and return a function."
   ]
  },
  {
   "cell_type": "markdown",
   "metadata": {
    "id": "hKvEY_XzQ-A0"
   },
   "source": [
    "The convolutional neural network algorithm's **main purpose **is to get data into forms that are easier to process without losing the features that are important for figuring out what the data represents. This also makes them great candidates for handling huge datasets."
   ]
  },
  {
   "cell_type": "markdown",
   "metadata": {
    "id": "Aw-JwT0xRUOs"
   },
   "source": [
    "#Key Components of CNN:\n",
    "\n",
    "##Convolutional Layers:\n",
    "\n",
    "**Filters/Kernels:** Small matrices (e.g., 3x3, 5x5) that slide over the input data to detect patterns or features.\n",
    "\n",
    "**Feature Maps:** The output of convolution operations, highlighting features like edges, textures, and more.\n",
    "\n",
    "##Activation Functions:\n",
    "\n",
    "Often use ReLU (Rectified Linear Unit) to introduce non-linearity. ReLU replaces negative values with zero. Softmax,\n",
    "\n",
    "##Pooling Layers:\n",
    "\n",
    "**Max Pooling:** Downsamples the input by taking the maximum value in a region (e.g., 2x2).\n",
    "\n",
    "Average Pooling: Downsamples by taking the average value in a region.\n",
    "\n",
    "##Fully Connected Layers:\n",
    "\n",
    "Dense layers where each neuron is connected to all neurons in the previous layer. These layers make decisions based on the extracted features.\n",
    "\n",
    "##Flatten Layer:\n",
    "\n",
    "Converts the 2D matrix data into a 1D vector to feed into the fully connected layers."
   ]
  },
  {
   "cell_type": "markdown",
   "metadata": {
    "id": "i1Yn-GdfR_Rs"
   },
   "source": [
    "#Working Principle:\n",
    "\n",
    "##Input Layer:\n",
    "An image is inputted into the CNN.\n",
    "\n",
    "##Convolutional Layers:\n",
    "The image is passed through convolutional layers to extract features.\n",
    "\n",
    "##Pooling Layers:\n",
    "Reduce the dimensions while retaining important features.\n",
    "\n",
    "##Flatten Layer:\n",
    "Converts the pooled feature maps into a single vector.\n",
    "\n",
    "##Fully Connected Layers:\n",
    "Process the vector to produce the final output (e.g., classification)."
   ]
  },
  {
   "cell_type": "code",
   "execution_count": 1,
   "metadata": {
    "colab": {
     "base_uri": "https://localhost:8080/"
    },
    "id": "QDTf8T9cSQd-",
    "outputId": "c448bfd8-5f85-4f10-fac2-5e10b963431f"
   },
   "outputs": [
    {
     "name": "stderr",
     "output_type": "stream",
     "text": [
      "/usr/local/lib/python3.10/dist-packages/keras/src/layers/convolutional/base_conv.py:107: UserWarning: Do not pass an `input_shape`/`input_dim` argument to a layer. When using Sequential models, prefer using an `Input(shape)` object as the first layer in the model instead.\n",
      "  super().__init__(activity_regularizer=activity_regularizer, **kwargs)\n"
     ]
    }
   ],
   "source": [
    "from keras.models import Sequential\n",
    "from keras.layers import Conv2D, MaxPooling2D, Flatten, Dense\n",
    "\n",
    "model = Sequential()\n",
    "# Convolutional layer with 32 filters of size 3x3\n",
    "model.add(Conv2D(32, (3, 3), activation='relu', input_shape=(64, 64, 3)))\n",
    "# Max pooling layer with pool size of 2x2\n",
    "model.add(MaxPooling2D(pool_size=(2, 2)))\n",
    "# Flatten layer\n",
    "model.add(Flatten())\n",
    "# Fully connected layer\n",
    "model.add(Dense(units=128, activation='relu'))\n",
    "# Output layer\n",
    "model.add(Dense(units=10, activation='softmax'))"
   ]
  },
  {
   "cell_type": "markdown",
   "metadata": {
    "id": "CL7q1F8-SVd_"
   },
   "source": [
    "In this example:\n",
    "\n",
    "Conv2D: Convolutional layer with 32 filters of size 3x3.\n",
    "\n",
    "MaxPooling2D: Pooling layer with a pool size of 2x2.\n",
    "\n",
    "Flatten: Flattens the pooled feature maps.\n",
    "\n",
    "Dense: Fully connected layers with 128 and 10 neurons, respectively."
   ]
  }
 ],
 "metadata": {
  "colab": {
   "provenance": []
  },
  "kernelspec": {
   "display_name": "Python 3 (ipykernel)",
   "language": "python",
   "name": "python3"
  },
  "language_info": {
   "codemirror_mode": {
    "name": "ipython",
    "version": 3
   },
   "file_extension": ".py",
   "mimetype": "text/x-python",
   "name": "python",
   "nbconvert_exporter": "python",
   "pygments_lexer": "ipython3",
   "version": "3.10.12"
  }
 },
 "nbformat": 4,
 "nbformat_minor": 4
}
